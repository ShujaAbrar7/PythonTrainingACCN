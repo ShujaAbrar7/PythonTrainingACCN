{
  "nbformat": 4,
  "nbformat_minor": 0,
  "metadata": {
    "colab": {
      "provenance": [],
      "authorship_tag": "ABX9TyOwwgY2DpQvEJB7YxUUqZw1",
      "include_colab_link": true
    },
    "kernelspec": {
      "name": "python3",
      "display_name": "Python 3"
    },
    "language_info": {
      "name": "python"
    }
  },
  "cells": [
    {
      "cell_type": "markdown",
      "metadata": {
        "id": "view-in-github",
        "colab_type": "text"
      },
      "source": [
        "<a href=\"https://colab.research.google.com/github/ShujaAbrar7/PythonTrainingACCN/blob/main/TrainingDay2.ipynb\" target=\"_parent\"><img src=\"https://colab.research.google.com/assets/colab-badge.svg\" alt=\"Open In Colab\"/></a>"
      ]
    },
    {
      "cell_type": "markdown",
      "source": [
        "What will be the out of code snippet.   ->    (17*9+(2**4)+5**7-(6*8))\n",
        "Find the output of ->   z = x//y ( If x = 256 and y = 17 )\n",
        "What will be the output of below program.\n",
        "def myFunc():\n",
        "\ts += 'GFG'\n",
        "\tprint(\"Inside Function\", s)\n",
        "\n",
        "           s = \"I love Geeksforgeeks\"\n",
        "           myFunc()"
      ],
      "metadata": {
        "id": "idPfN7_RZjKS"
      }
    },
    {
      "cell_type": "markdown",
      "source": [
        "What will be the out of code snippet.   ->    (17*9+(2**4)+5**7-(6*8))\n"
      ],
      "metadata": {
        "id": "TbZZPWT7Z1Uj"
      }
    },
    {
      "cell_type": "code",
      "execution_count": 1,
      "metadata": {
        "colab": {
          "base_uri": "https://localhost:8080/"
        },
        "id": "4dttF4AdZIWS",
        "outputId": "e4f1ab45-4ca6-449e-f99c-13aa9c81f96a"
      },
      "outputs": [
        {
          "output_type": "stream",
          "name": "stdout",
          "text": [
            "78246\n"
          ]
        }
      ],
      "source": [
        "print((17*9+(2**4)+5**7-(6*8)))\n",
        "#(17*9+16+78125-48)\n",
        "#(153+16+78125-48)\n",
        "#78294-48\n",
        "#78246"
      ]
    },
    {
      "cell_type": "markdown",
      "source": [
        "2. Find the output of ->   z = x//y ( If x = 256 and y = 17 )\n"
      ],
      "metadata": {
        "id": "F0RfxIU8bF9Q"
      }
    },
    {
      "cell_type": "code",
      "source": [
        "import math\n",
        "x=256\n",
        "y=17\n",
        "#// is floor division so only the integral part or the quotient is returned\n",
        "# // is equivalent to math.floor()\n",
        "print(x//y)\n",
        "print(math.floor(x/17))"
      ],
      "metadata": {
        "colab": {
          "base_uri": "https://localhost:8080/"
        },
        "id": "25LURyVvbL4N",
        "outputId": "8a07bf97-b2e6-41d3-fde9-dd505c0c6c56"
      },
      "execution_count": 5,
      "outputs": [
        {
          "output_type": "stream",
          "name": "stdout",
          "text": [
            "15\n",
            "15\n"
          ]
        }
      ]
    },
    {
      "cell_type": "markdown",
      "source": [
        "3. Output of the below program\n",
        "\n",
        "```\n",
        "def myFunc():\n",
        "\ts += 'GFG'\n",
        "\tprint(\"Inside Function\", s)\n",
        "\n",
        "s = \"I love Geeksforgeeks\"\n",
        "myFunc()\n",
        "```\n",
        "\n",
        "\n",
        "```\n",
        "---------------------------------------------------------------------------\n",
        "UnboundLocalError                         Traceback (most recent call last)\n",
        "<ipython-input-6-8c63c6aab3b3> in <cell line: 6>()\n",
        "      4\n",
        "      5 s = \"I love Geeksforgeeks\"\n",
        "----> 6 myFunc()\n",
        "\n",
        "<ipython-input-6-8c63c6aab3b3> in myFunc()\n",
        "      1 def myFunc():\n",
        "----> 2     s += 'GFG'\n",
        "      3     print(\"Inside Function\", s)\n",
        "      4\n",
        "      5 s = \"I love Geeksforgeeks\"\n",
        "\n",
        "UnboundLocalError: local variable 's' referenced before assignment\n",
        "```\n",
        "\n",
        "\n",
        "\n",
        "\n",
        "\n",
        "\n"
      ],
      "metadata": {
        "id": "SKuG4VVtbxBk"
      }
    },
    {
      "cell_type": "code",
      "source": [
        "def myFunc():\n",
        "  #here the local variable is reassigned which doesn't have any value assigned previously,\n",
        "  #so the interpreter doesnt understand which value to assign and then perform the operation so there is error thrown\n",
        "  s += 'GFG'\n",
        "  print(\"Inside Function\", s)\n",
        "\n",
        "s = \"I love Geeksforgeeks\"\n",
        "myFunc()"
      ],
      "metadata": {
        "colab": {
          "base_uri": "https://localhost:8080/",
          "height": 331
        },
        "id": "cYsOlsoNcPhI",
        "outputId": "d48c2882-acdf-494d-edaa-0a5690a9b1ca"
      },
      "execution_count": 10,
      "outputs": [
        {
          "output_type": "error",
          "ename": "UnboundLocalError",
          "evalue": "ignored",
          "traceback": [
            "\u001b[0;31m---------------------------------------------------------------------------\u001b[0m",
            "\u001b[0;31mUnboundLocalError\u001b[0m                         Traceback (most recent call last)",
            "\u001b[0;32m<ipython-input-10-d1baead40b1d>\u001b[0m in \u001b[0;36m<cell line: 7>\u001b[0;34m()\u001b[0m\n\u001b[1;32m      5\u001b[0m \u001b[0;34m\u001b[0m\u001b[0m\n\u001b[1;32m      6\u001b[0m \u001b[0ms\u001b[0m \u001b[0;34m=\u001b[0m \u001b[0;34m\"I love Geeksforgeeks\"\u001b[0m\u001b[0;34m\u001b[0m\u001b[0;34m\u001b[0m\u001b[0m\n\u001b[0;32m----> 7\u001b[0;31m \u001b[0mmyFunc\u001b[0m\u001b[0;34m(\u001b[0m\u001b[0;34m)\u001b[0m\u001b[0;34m\u001b[0m\u001b[0;34m\u001b[0m\u001b[0m\n\u001b[0m",
            "\u001b[0;32m<ipython-input-10-d1baead40b1d>\u001b[0m in \u001b[0;36mmyFunc\u001b[0;34m()\u001b[0m\n\u001b[1;32m      1\u001b[0m \u001b[0;32mdef\u001b[0m \u001b[0mmyFunc\u001b[0m\u001b[0;34m(\u001b[0m\u001b[0;34m)\u001b[0m\u001b[0;34m:\u001b[0m\u001b[0;34m\u001b[0m\u001b[0;34m\u001b[0m\u001b[0m\n\u001b[1;32m      2\u001b[0m   \u001b[0;31m#here\u001b[0m\u001b[0;34m\u001b[0m\u001b[0;34m\u001b[0m\u001b[0m\n\u001b[0;32m----> 3\u001b[0;31m   \u001b[0ms\u001b[0m \u001b[0;34m+=\u001b[0m \u001b[0;34m'GFG'\u001b[0m\u001b[0;34m\u001b[0m\u001b[0;34m\u001b[0m\u001b[0m\n\u001b[0m\u001b[1;32m      4\u001b[0m   \u001b[0mprint\u001b[0m\u001b[0;34m(\u001b[0m\u001b[0;34m\"Inside Function\"\u001b[0m\u001b[0;34m,\u001b[0m \u001b[0ms\u001b[0m\u001b[0;34m)\u001b[0m\u001b[0;34m\u001b[0m\u001b[0;34m\u001b[0m\u001b[0m\n\u001b[1;32m      5\u001b[0m \u001b[0;34m\u001b[0m\u001b[0m\n",
            "\u001b[0;31mUnboundLocalError\u001b[0m: local variable 's' referenced before assignment"
          ]
        }
      ]
    },
    {
      "cell_type": "code",
      "source": [
        "def myFunc():\n",
        "  #using global keyword we are referencing the value of global variable which is initialised now , then reassignment is done\n",
        "  global s\n",
        "  s+= 'GFG'\n",
        "  print(\"Inside Function\", s)\n",
        "\n",
        "s = \"I love Geeksforgeeks\"\n",
        "myFunc()"
      ],
      "metadata": {
        "colab": {
          "base_uri": "https://localhost:8080/"
        },
        "id": "qcrckTT-czWR",
        "outputId": "4c3408e5-bf98-47c8-b95c-129daee09435"
      },
      "execution_count": 9,
      "outputs": [
        {
          "output_type": "stream",
          "name": "stdout",
          "text": [
            "Inside Function I love GeeksforgeeksGFG\n"
          ]
        }
      ]
    }
  ]
}