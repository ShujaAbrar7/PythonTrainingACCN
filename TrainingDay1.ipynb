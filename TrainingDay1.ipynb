{
  "nbformat": 4,
  "nbformat_minor": 0,
  "metadata": {
    "colab": {
      "provenance": [],
      "authorship_tag": "ABX9TyMZHwXHtZbroRvvmSBu3x4t",
      "include_colab_link": true
    },
    "kernelspec": {
      "name": "python3",
      "display_name": "Python 3"
    },
    "language_info": {
      "name": "python"
    }
  },
  "cells": [
    {
      "cell_type": "markdown",
      "metadata": {
        "id": "view-in-github",
        "colab_type": "text"
      },
      "source": [
        "<a href=\"https://colab.research.google.com/github/ShujaAbrar7/PythonTrainingACCN/blob/main/TrainingDay1.ipynb\" target=\"_parent\"><img src=\"https://colab.research.google.com/assets/colab-badge.svg\" alt=\"Open In Colab\"/></a>"
      ]
    },
    {
      "cell_type": "code",
      "execution_count": null,
      "metadata": {
        "id": "KTomApmzBHrX"
      },
      "outputs": [],
      "source": []
    },
    {
      "cell_type": "markdown",
      "source": [
        "1. Write a program that checks given value is string or not?\n",
        "2. Write a program to convert int to float and viceversa\n",
        "3. Write a program to print \"Welcome to the Python world\" if two variables are matching.\n",
        "4. Write a program to check given two inputs are equal or not.\n",
        "5. Write a program to convert str to int and viceversa\n",
        "6. Write a few programs with use of Arthematic and logical operators.\n",
        "6. w = 20\n",
        "    x = 10\n",
        "    y = 15\n",
        "    z = 2\n",
        "\n",
        "    print the values of below.\n",
        "\n",
        "    result_1 = (w+x)*y/z\n",
        "    result_2 = ((w+x)*x)/z\n",
        "    result_3 = ((w+x)*(y/z))**z\n",
        "    result_4 = w+(x*y)/z\n",
        "\n",
        "7. Write a few programs using logical operators.\n",
        "\n",
        "8. Write a few programs using relational operators\n"
      ],
      "metadata": {
        "id": "mr9rTA7sBgLp"
      }
    },
    {
      "cell_type": "markdown",
      "source": [
        "1.Write a program that checks given value is string or not?"
      ],
      "metadata": {
        "id": "SyBOAjFpCGcp"
      }
    },
    {
      "cell_type": "code",
      "source": [
        "stringVar='This is a basic string enclosed within single quotes'\n",
        "stringVar2=\"This is the basic string enclosed within double quotes\"\n",
        "'''Printing if a variable is string or not'''\n",
        "print(type(stringVar)==type('string'))\n",
        "print(type(stringVar2)==type('string'))\n",
        "#comparing strings will give False\n",
        "print(stringVar==stringVar2)\n",
        "print(type('An adhoc string with \\n escape character')==type('string'))"
      ],
      "metadata": {
        "colab": {
          "base_uri": "https://localhost:8080/"
        },
        "id": "JZ2fgHAxCKEW",
        "outputId": "4c70ad8d-837e-4b76-f9eb-39bc16d88405"
      },
      "execution_count": 49,
      "outputs": [
        {
          "output_type": "stream",
          "name": "stdout",
          "text": [
            "True\n",
            "True\n",
            "False\n",
            "True\n"
          ]
        }
      ]
    },
    {
      "cell_type": "markdown",
      "source": [
        "2.Write a program to convert int to float and viceversa"
      ],
      "metadata": {
        "id": "tuCd3ZmBD3Ey"
      }
    },
    {
      "cell_type": "code",
      "source": [
        "import math\n",
        "intVariable=5\n",
        "'''typecasting to float'''\n",
        "print(\"Actual Value:\",intVariable,\"After typecasting to float:\",float(intVariable),sep='\\t',end='\\n')\n",
        "'''float to int'''\n",
        "floatVariable=5.994546\n",
        "'''typecasting to float'''\n",
        "'''float is higher order than int so type cating from higher to lower order results in  loss of data'''\n",
        "print(\"Actual Value:\",floatVariable,\"After typecasting to int:\",int(floatVariable),sep='\\t')\n",
        "'''this is similar to using floor()'''\n",
        "floatVariable=5.994546\n",
        "'''Using floor function'''\n",
        "print(\"Actual Value:\",floatVariable,\"Using floor:\",math.floor(floatVariable),sep='\\t')"
      ],
      "metadata": {
        "colab": {
          "base_uri": "https://localhost:8080/"
        },
        "id": "72Wha9q0D66D",
        "outputId": "385c640c-c869-497c-91a9-e85d58339edc"
      },
      "execution_count": 11,
      "outputs": [
        {
          "output_type": "stream",
          "name": "stdout",
          "text": [
            "Actual Value:\t5\tAfter typecasting to float:\t5.0\n",
            "Actual Value:\t5.994546\tAfter typecasting to int:\t5\n",
            "Actual Value:\t5.994546\tUsing floor:\t5\n"
          ]
        }
      ]
    },
    {
      "cell_type": "markdown",
      "source": [
        "3. Write a program to print \"Welcome to the Python world\" if two variables are matching."
      ],
      "metadata": {
        "id": "WKR_3z__FmvG"
      }
    },
    {
      "cell_type": "code",
      "source": [
        "firstVar=16\n",
        "secondVar=2**4\n",
        "#Comparing both values\n",
        "if firstVar==secondVar:\n",
        "  print('Welcome to the Python World')\n",
        "\n",
        "'''using Strings'''\n",
        "string1=\"ABCDEF\"\n",
        "#using upper() to convert case to Upper Case directly thn comparing its value\n",
        "if string1=='abcdef'.upper():\n",
        "  print(\"Welcome to the Python World\")"
      ],
      "metadata": {
        "colab": {
          "base_uri": "https://localhost:8080/"
        },
        "id": "bgfqYnphFoQ2",
        "outputId": "a8760853-1e30-4e08-c257-12571c5f5517"
      },
      "execution_count": 13,
      "outputs": [
        {
          "output_type": "stream",
          "name": "stdout",
          "text": [
            "Welcome to the Python World\n",
            "Welcome to the Python World\n"
          ]
        }
      ]
    },
    {
      "cell_type": "markdown",
      "source": [
        "4. Write a program to check given two inputs are equal or not."
      ],
      "metadata": {
        "id": "_cTSjrSRG3NR"
      }
    },
    {
      "cell_type": "code",
      "source": [
        "firstInput=input('Enter a string input')\n",
        "secondInput=input('Enter another string')\n",
        "print(\"Both string inputs match and are equal\" if firstInput==secondInput else \"The string inputs do not match, not equal\")"
      ],
      "metadata": {
        "colab": {
          "base_uri": "https://localhost:8080/"
        },
        "id": "YLxzmu3FG2zn",
        "outputId": "f6b18576-e99e-4b3c-aea2-78f4818bcdc6"
      },
      "execution_count": 15,
      "outputs": [
        {
          "output_type": "stream",
          "name": "stdout",
          "text": [
            "Enter a string inputHello\n",
            "Enter another stringHello\n",
            "Both string inputs match and are equal\n"
          ]
        }
      ]
    },
    {
      "cell_type": "markdown",
      "source": [
        "5. Write a program to convert str to int and viceversa"
      ],
      "metadata": {
        "id": "VdZIxGpVIbti"
      }
    },
    {
      "cell_type": "code",
      "source": [
        "#chr provides integer value to corresponding ascii\n",
        "#ord provides ascii equivalent to int value\n",
        "a=ord('a')\n",
        "print(a,int(a),chr(a))\n",
        "#to convert string value to int it should be numeric only without decimal as it gives ValueError\n",
        "_stringToInt='8465465465'\n",
        "print(\"Integer equivalent string to Integer\",int(_stringToInt), sep=\"\\t\")\n",
        "#to convert string value to int it should be numeric only without decimal as it gives ValueError\n",
        "_stringToInt='10.5'\n",
        "print(int(_stringToInt))\n",
        "\n"
      ],
      "metadata": {
        "colab": {
          "base_uri": "https://localhost:8080/",
          "height": 262
        },
        "id": "Q7N4b4REIdYr",
        "outputId": "7a5d577e-385b-4fcd-c98e-2c840e70a627"
      },
      "execution_count": 26,
      "outputs": [
        {
          "output_type": "stream",
          "name": "stdout",
          "text": [
            "97 97 a\n",
            "Integer equivalent string to Integer\t8465465465\n"
          ]
        },
        {
          "output_type": "error",
          "ename": "ValueError",
          "evalue": "ignored",
          "traceback": [
            "\u001b[0;31m---------------------------------------------------------------------------\u001b[0m",
            "\u001b[0;31mValueError\u001b[0m                                Traceback (most recent call last)",
            "\u001b[0;32m<ipython-input-26-78a46a853b53>\u001b[0m in \u001b[0;36m<cell line: 10>\u001b[0;34m()\u001b[0m\n\u001b[1;32m      8\u001b[0m \u001b[0;31m#to convert string value to int it should be numeric only without decimal as it gives error\u001b[0m\u001b[0;34m\u001b[0m\u001b[0;34m\u001b[0m\u001b[0m\n\u001b[1;32m      9\u001b[0m \u001b[0m_stringToInt\u001b[0m\u001b[0;34m=\u001b[0m\u001b[0;34m'10.5'\u001b[0m\u001b[0;34m\u001b[0m\u001b[0;34m\u001b[0m\u001b[0m\n\u001b[0;32m---> 10\u001b[0;31m \u001b[0mprint\u001b[0m\u001b[0;34m(\u001b[0m\u001b[0mint\u001b[0m\u001b[0;34m(\u001b[0m\u001b[0m_stringToInt\u001b[0m\u001b[0;34m)\u001b[0m\u001b[0;34m)\u001b[0m\u001b[0;34m\u001b[0m\u001b[0;34m\u001b[0m\u001b[0m\n\u001b[0m\u001b[1;32m     11\u001b[0m \u001b[0;34m\u001b[0m\u001b[0m\n",
            "\u001b[0;31mValueError\u001b[0m: invalid literal for int() with base 10: '10.5'"
          ]
        }
      ]
    },
    {
      "cell_type": "markdown",
      "source": [
        "6. Write a few programs with use of Arthematic and logical operators.\n"
      ],
      "metadata": {
        "id": "4y_2XLgMKcqK"
      }
    },
    {
      "cell_type": "code",
      "source": [
        "firstSide=float(input(\"First Side\"))\n",
        "secondSide=float(input(\"second Side\"))\n",
        "thirdSide=float(input(\"Third Side\"))\n",
        "#to check a triangle can be formed with given sides length, sum of pair of sides should be greater than third\n",
        "if (firstSide+secondSide>thirdSide) or (secondSide+thirdSide>firstSide) or (thirdSide+firstSide>thirdSide):\n",
        "  print(\"Traingle formation is possible\")\n",
        "else:\n",
        "  print(\"Triangle formation is not possible\")\n"
      ],
      "metadata": {
        "colab": {
          "base_uri": "https://localhost:8080/"
        },
        "id": "bF9UrPLTLiwA",
        "outputId": "24a6f007-80e5-485a-d556-0b2547e5cb71"
      },
      "execution_count": 28,
      "outputs": [
        {
          "output_type": "stream",
          "name": "stdout",
          "text": [
            "First Side7\n",
            "second Side24\n",
            "Third Side25\n",
            "Traingle formation is possible\n"
          ]
        }
      ]
    },
    {
      "cell_type": "markdown",
      "source": [
        "7. w = 20 x = 10 y = 15 z = 2\n",
        "\n",
        "print the values of below.\n",
        "\n",
        "result_1 = (w+x)y/z result_2 = ((w+x)x)/z result_3 = ((w+x)(y/z))**z result_4 = w+(xy)/z"
      ],
      "metadata": {
        "id": "OB0T_bNmNJWR"
      }
    },
    {
      "cell_type": "code",
      "source": [
        "w = 20\n",
        "x = 10\n",
        "y = 15\n",
        "z = 2\n",
        "\"\"\"\n",
        "result_1\n",
        "(20+10)*15/2\n",
        "30*15/2\n",
        "30*7.5\n",
        "225\"\"\"\n",
        "result_1 = (w+x)*y/z\n",
        "\"\"\"\n",
        "result_2\n",
        "((20+10)*10)/2\n",
        "(30*10)/2\n",
        "(300)/2\n",
        "150\n",
        "\"\"\"\n",
        "result_2 = ((w+x)*x)/z\n",
        "\"\"\"\n",
        "result_3\n",
        "((20+10)*(15/2))**2\n",
        "((30)*(7.5))**2\n",
        "(225)**2\n",
        "50625\n",
        "\"\"\"\n",
        "result_3 = ((w+x)*(y/z))**z\n",
        "\"\"\"\n",
        "result_4\n",
        "20+(10*15)/2\n",
        "20+(150)/2\n",
        "20+75\n",
        "95\n",
        "\"\"\"\n",
        "result_4 = w+(x*y)/z\n",
        "print(result_1,result_2,result_3,result_4,sep='\\n')"
      ],
      "metadata": {
        "colab": {
          "base_uri": "https://localhost:8080/"
        },
        "id": "PN-K7xBbNO6O",
        "outputId": "43bce7fa-759c-4885-b88b-3ac0aea72349"
      },
      "execution_count": 31,
      "outputs": [
        {
          "output_type": "stream",
          "name": "stdout",
          "text": [
            "225.0\n",
            "150.0\n",
            "50625.0\n",
            "95.0\n"
          ]
        }
      ]
    },
    {
      "cell_type": "markdown",
      "source": [
        "8. Write a few programs using logical operators.\n"
      ],
      "metadata": {
        "id": "z2PXdjNCQhcn"
      }
    },
    {
      "cell_type": "code",
      "source": [
        "#check a number is positive or negative or zero\n",
        "a=int(input(\"Provide a number\"))\n",
        "if not(a>0)==True and not(a<0)==True:\n",
        "  print(\"It is zero\")\n",
        "elif not(a>0):\n",
        "  print(\"It is a Negative number\")\n",
        "elif not(a<0):\n",
        "  print(\"Its is a positive number\")\n"
      ],
      "metadata": {
        "colab": {
          "base_uri": "https://localhost:8080/"
        },
        "id": "XxpeMLH6Vc0P",
        "outputId": "814a7535-05c2-401b-c41f-650187c0e2e1"
      },
      "execution_count": 62,
      "outputs": [
        {
          "output_type": "stream",
          "name": "stdout",
          "text": [
            "Provide a number5\n",
            "Its is a positive number\n"
          ]
        }
      ]
    },
    {
      "cell_type": "code",
      "source": [
        "#check a number is ending with 0 or multiple of 10\n",
        "Var=int(input(\"Enter an integer\"))\n",
        "#if that is exactly divisble by 10 or equal to 0 or Divisible by 2 and 5 both\n",
        "if (type(Var/10)==type(10)) or (Var==0) or (Var%2==0 and Var%5==0):\n",
        "  print(\"Provided number {} is Multiple of 10\".format(Var))\n",
        "else:\n",
        "  print(\"Provided number {} is not a multiple of 10\".format(Var))"
      ],
      "metadata": {
        "colab": {
          "base_uri": "https://localhost:8080/"
        },
        "id": "Nz3fiGn3Qixg",
        "outputId": "76e32444-267f-452a-c9f5-244df29c9f28"
      },
      "execution_count": 36,
      "outputs": [
        {
          "output_type": "stream",
          "name": "stdout",
          "text": [
            "Enter an integer536\n",
            "Provided number 536 is not a multiple of 10\n"
          ]
        }
      ]
    },
    {
      "cell_type": "markdown",
      "source": [
        "9. Write a few programs using relational operators"
      ],
      "metadata": {
        "id": "e9OIIXIVSFji"
      }
    },
    {
      "cell_type": "code",
      "source": [
        "a=list(map(int,input(\"Enter three numbers\").split()))\n",
        "if a[0]>a[1] and a[0]>a[2]:\n",
        "  print(a[0],\" is greatest number\")\n",
        "elif a[1]>a[0] and a[1]>a[2]:\n",
        "  print(a[1],\" is greatest number\")\n",
        "else:\n",
        "  print(a[2],\" is greatest number\")"
      ],
      "metadata": {
        "colab": {
          "base_uri": "https://localhost:8080/"
        },
        "id": "S5EinNleSDxE",
        "outputId": "76b12354-5d96-4f0c-a6d9-cb9f247194e7"
      },
      "execution_count": 46,
      "outputs": [
        {
          "output_type": "stream",
          "name": "stdout",
          "text": [
            "Enter three numbers2 5 7\n",
            "7  is greatest number\n"
          ]
        }
      ]
    },
    {
      "cell_type": "code",
      "source": [
        "8 _operand1=int(input(\"Provide an interger\"))\n",
        "_operand2=int(input(\"Provide another integer\"))\n",
        "_operator=input(\"Select any of ADD,SUB,MUL,DIV,FDIV,EXP,MOD\")\n",
        "if _operator=='ADD':\n",
        "  print(_operand1+_operand2)\n",
        "elif _operator=='SUB':\n",
        "  print(_operand1-_operand2)\n",
        "elif _operator=='MUL':\n",
        "  print(_operand1*_operand2)\n",
        "elif _operator=='DIV':\n",
        "  print(_operand1/_operand2)\n",
        "elif _operator=='FDIV':\n",
        "  print(_operand1//_operand2)\n",
        "elif _operator=='EXP':\n",
        "  print(_operand1**_operand2)\n",
        "elif _operator=='MOD':\n",
        "  print(_operand1%_operand2)\n",
        "else:\n",
        "  print(\"Not a valid operation\")"
      ],
      "metadata": {
        "colab": {
          "base_uri": "https://localhost:8080/"
        },
        "id": "HsjSJHHkKd8J",
        "outputId": "37254b9a-7c2b-41bc-efd3-cadbff9c11be"
      },
      "execution_count": 38,
      "outputs": [
        {
          "output_type": "stream",
          "name": "stdout",
          "text": [
            "Provide an interger8\n",
            "Provide another integer4\n",
            "Select any of ADD,SUB,MUL,DIV,FDIV,EXP,MODMUL\n",
            "32\n"
          ]
        }
      ]
    }
  ]
}