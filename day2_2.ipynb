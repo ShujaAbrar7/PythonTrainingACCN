{
  "nbformat": 4,
  "nbformat_minor": 0,
  "metadata": {
    "colab": {
      "provenance": [],
      "authorship_tag": "ABX9TyNMoCVs31P+hEnDch1mTMA6",
      "include_colab_link": true
    },
    "kernelspec": {
      "name": "python3",
      "display_name": "Python 3"
    },
    "language_info": {
      "name": "python"
    }
  },
  "cells": [
    {
      "cell_type": "markdown",
      "metadata": {
        "id": "view-in-github",
        "colab_type": "text"
      },
      "source": [
        "<a href=\"https://colab.research.google.com/github/ShujaAbrar7/PythonTrainingACCN/blob/main/day2_2.ipynb\" target=\"_parent\"><img src=\"https://colab.research.google.com/assets/colab-badge.svg\" alt=\"Open In Colab\"/></a>"
      ]
    },
    {
      "cell_type": "markdown",
      "source": [
        "\n",
        "1. Write a program with sample list with seven elements and add new elements10, 'Teja' at the second and fourth position.\n",
        "\n",
        "2. Write a program with sample list and find the third element and last element of list.\n",
        "\n",
        "3. How to remove last element of the list using inbuilt methods\n",
        "\n",
        "4. How to merge two lists and return single list as a output.\n",
        "\n",
        "5. Write a program with sample list with even and odd numbers and Iterate the list of elements return all even numbers as a new list.  Sample List = [20, 13, 14, 15, 9, 8, 15]\n",
        "\n",
        "6. Write a program to count the number of same characters in a string. Sample String : 'Welcome to the python world'\n",
        "\n",
        "7. Write a Python program to change Chaitanya’s salary to 8500 in the following dictionary.\n",
        "\n",
        "\tsample_dict = {\n",
        "\n",
        "\t\t'emp1': {'name': 'Jhon', 'salary': 7500},\n",
        "\n",
        "\t\t'emp2': {'name': 'Emma', 'salary': 8000},\n",
        "\n",
        "\t\t'emp3': {'name': 'Chaitanya', 'salary': 500}\n",
        "\n",
        "\t}\n",
        "\n",
        "\n",
        "\n",
        "8. Print the value of key ‘history’ from the below dict\n",
        "\n",
        "\tsampleDict = {\n",
        "\n",
        "\t\t\"class\": {\n",
        "\n",
        "\t\t\t\"student\": {\n",
        "\n",
        "\t\t\t\t\"name\": \"Mike\",\n",
        "\n",
        "\t\t\t\t\"marks\": {\n",
        "\n",
        "\t\t\t\t\t\"physics\": 70,\n",
        "\n",
        "\t\t\t\t\t\"history\": 80\n",
        "\n",
        "\t\t\t\t}\n",
        "\n",
        "\t\t\t}\n",
        "\n",
        "\t\t}\n",
        "\n",
        "\t}\n",
        "\n",
        "\n",
        "\n",
        "\n",
        "\n",
        "9. Write a program to reverse a list -> [20, 5, 71, 10, 5] using inbuilt method and slicing.\n",
        "\n",
        "\n",
        "\n",
        "10. Write a Python program to print a specified list after removing 'White', 'Pink' and 'Yellow' elements from the list.\n",
        "\n",
        "\n",
        "\n",
        "\tSample List : ['Red', 'Green', 'White', 'Black', 'Pink', 'Yellow']\n",
        "\n",
        "\n",
        "\n",
        "12. Write a Python program to check if a list is empty or not.\n",
        "\n",
        "\n",
        "\n",
        "13. Write a Python program to remove duplicates from a list.\n"
      ],
      "metadata": {
        "id": "WXc5zEwJjC3X"
      }
    },
    {
      "cell_type": "code",
      "execution_count": 3,
      "metadata": {
        "colab": {
          "base_uri": "https://localhost:8080/"
        },
        "id": "DfkHGcqJi_S8",
        "outputId": "d1065c02-6322-4a2d-de2c-21df3dbf2be2"
      },
      "outputs": [
        {
          "output_type": "stream",
          "name": "stdout",
          "text": [
            "[1, 4, 8.9, 'hi', (1+5j), 70, 'WellDone']\n",
            "list after inserting elements\n",
            "[1, 10, 4, 'Teja', 8.9, 'hi', (1+5j), 70, 'WellDone']\n"
          ]
        }
      ],
      "source": [
        "'''1.Write a program with sample list with seven elements and add new elements10, 'Teja' at the second and fourth position.'''\n",
        "s1=list([1,4,8.9,\"hi\", 1+5j,70,\"WellDone\"])\n",
        "print(s1)\n",
        "s1.insert(1,10)\n",
        "# we give position based on 0-based indexing\n",
        "s1.insert(3,\"Teja\")\n",
        "print(\"list after inserting elements\",s1,sep=\"\\n\")"
      ]
    },
    {
      "cell_type": "code",
      "source": [
        "'''2. Write a program with sample list and find the third element and last element of list.'''\n",
        "l1=[3,6,9,2,3,4,5,6,12,90]\n",
        "\n",
        "print(\"Third element: \",l1[2])\n",
        "print(\"last element: \",l1[-1])\n",
        "print(\"last elemwnt: \",l1[len(l1)-1])"
      ],
      "metadata": {
        "colab": {
          "base_uri": "https://localhost:8080/"
        },
        "id": "v9-Gdb1ikRUZ",
        "outputId": "fa5f9148-601f-434a-c398-a1028f381973"
      },
      "execution_count": 4,
      "outputs": [
        {
          "output_type": "stream",
          "name": "stdout",
          "text": [
            "Third element:  9\n",
            "last element:  90\n",
            "last elemwnt:  90\n"
          ]
        }
      ]
    },
    {
      "cell_type": "code",
      "source": [
        "'''3. How to remove last element of the list using inbuilt methods'''\n",
        "#pop() is used to remove the last element of the list\n",
        "\n",
        "l1=[4,8,2]\n",
        "print(l1.pop())\n",
        "print(l1)\n",
        "print(l1.pop())\n",
        "print(l1)"
      ],
      "metadata": {
        "colab": {
          "base_uri": "https://localhost:8080/"
        },
        "id": "bDNf1nYbk1g6",
        "outputId": "2e30f7e4-d584-473c-8101-03724a269237"
      },
      "execution_count": 8,
      "outputs": [
        {
          "output_type": "stream",
          "name": "stdout",
          "text": [
            "2\n",
            "[4, 8]\n",
            "8\n",
            "[4]\n"
          ]
        }
      ]
    },
    {
      "cell_type": "code",
      "source": [
        "l1=[4,8,2,3,6,1]\n",
        "print(\"length before pop :\",len(l1))\n",
        "print(\"element removed:\",l1.pop(2))\n",
        "#third element that is 2 is removed\n",
        "print(\"list after pop: \", l1)\n",
        "print(\"length after pop: \",len(l1))"
      ],
      "metadata": {
        "colab": {
          "base_uri": "https://localhost:8080/"
        },
        "id": "k9o4HdJnlR7M",
        "outputId": "cff8f4a7-ac35-421d-e413-3ca259800fbf"
      },
      "execution_count": 9,
      "outputs": [
        {
          "output_type": "stream",
          "name": "stdout",
          "text": [
            "length before pop : 6\n",
            "element removed: 2\n",
            "list after pop:  [4, 8, 3, 6, 1]\n",
            "length after pop:  5\n"
          ]
        }
      ]
    },
    {
      "cell_type": "code",
      "source": [
        "'''4. How to merge two lists and return single list as a output.'''\n",
        "l1=[1,3,5,7,9]\n",
        "l2=[2,4,6,8]\n",
        "#merged list\n",
        "print(l1+l2)\n",
        "print(\"l1 before extend \",l1)\n",
        "l1.extend(l2)\n",
        "#l1 is extended adn modified with merged list\n",
        "print(\"l1 after extend \",l1)"
      ],
      "metadata": {
        "colab": {
          "base_uri": "https://localhost:8080/"
        },
        "id": "oq_rNqgwmDN5",
        "outputId": "b58db479-7675-42f5-b689-27d0fcf75ee4"
      },
      "execution_count": 13,
      "outputs": [
        {
          "output_type": "stream",
          "name": "stdout",
          "text": [
            "[1, 3, 5, 7, 9, 2, 4, 6, 8]\n",
            "l1 before extend  [1, 3, 5, 7, 9]\n",
            "l1 after extend  [1, 3, 5, 7, 9, 2, 4, 6, 8]\n"
          ]
        }
      ]
    },
    {
      "cell_type": "code",
      "source": [
        "''' 5. Write a program with sample list with even and odd numbers and Iterate the list of elements return all even numbers as a new list.\n",
        " Sample List = [20, 13, 14, 15, 9, 8, 15]'''\n",
        "sampleList = [20, 13, 14, 15, 9, 8, 15]\n",
        "l=[i for i in sampleList if i%2==0]\n",
        "print(l)"
      ],
      "metadata": {
        "colab": {
          "base_uri": "https://localhost:8080/"
        },
        "id": "jBOVU7-YnNoc",
        "outputId": "bb8001d8-5f8e-477e-e78b-471614264708"
      },
      "execution_count": 14,
      "outputs": [
        {
          "output_type": "stream",
          "name": "stdout",
          "text": [
            "[20, 14, 8]\n"
          ]
        }
      ]
    },
    {
      "cell_type": "code",
      "source": [
        "\"\"\"6. Write a program to count the number of same characters in a string. Sample String : 'Welcome to the python world'\"\"\"\n",
        "s='Welcome to the python world'\n",
        "d=dict()\n",
        "for i in s:\n",
        "  if i not in d.keys():\n",
        "    if i==' ':\n",
        "      pass\n",
        "    else:\n",
        "      d[i]=1\n",
        "  else:\n",
        "    d[i]+=1\n",
        "CountDict=dict()\n",
        "for i in d.values():\n",
        "  if i not in CountDict:\n",
        "    CountDict[i]=1\n",
        "  else:\n",
        "    CountDict[i]+=1\n",
        "#print(CountDict)\n",
        "print(d)\n",
        "for i,j in CountDict.items():\n",
        "  print(\"there are \",j,\" letters that occured \",i,\" times\")"
      ],
      "metadata": {
        "colab": {
          "base_uri": "https://localhost:8080/"
        },
        "id": "bJPNM2lgnohm",
        "outputId": "a092bc10-5dee-4317-ce15-c20c425d50fe"
      },
      "execution_count": 15,
      "outputs": [
        {
          "output_type": "stream",
          "name": "stdout",
          "text": [
            "{'W': 1, 'e': 3, 'l': 2, 'c': 1, 'o': 4, 'm': 1, 't': 3, 'h': 2, 'p': 1, 'y': 1, 'n': 1, 'w': 1, 'r': 1, 'd': 1}\n",
            "there are  9  letters that occured  1  times\n",
            "there are  2  letters that occured  3  times\n",
            "there are  2  letters that occured  2  times\n",
            "there are  1  letters that occured  4  times\n"
          ]
        }
      ]
    },
    {
      "cell_type": "code",
      "source": [
        "\"\"\"\n",
        "7. Write a Python program to change Chaitanya’s salary to 8500 in the following dictionary.\n",
        "\n",
        "\tsample_dict = {\n",
        "\n",
        "\t\t'emp1': {'name': 'Jhon', 'salary': 7500},\n",
        "\n",
        "\t\t'emp2': {'name': 'Emma', 'salary': 8000},\n",
        "\n",
        "\t\t'emp3': {'name': 'Chaitanya', 'salary': 500}\n",
        "\n",
        "\t}\n",
        "\"\"\"\n",
        "sample_dict = {\n",
        "\n",
        "\t\t'emp1': {'name': 'Jhon', 'salary': 7500},\n",
        "\n",
        "\t\t'emp2': {'name': 'Emma', 'salary': 8000},\n",
        "\n",
        "\t\t'emp3': {'name': 'Chaitanya', 'salary': 500}\n",
        "\n",
        "\t}\n",
        "sample_dict['emp3']['salary']=8500\n",
        "print(sample_dict)"
      ],
      "metadata": {
        "colab": {
          "base_uri": "https://localhost:8080/"
        },
        "id": "2RIL6FxOn9H1",
        "outputId": "6e175f80-314c-4ec4-c241-ea0417105ed3"
      },
      "execution_count": 17,
      "outputs": [
        {
          "output_type": "stream",
          "name": "stdout",
          "text": [
            "{'emp1': {'name': 'Jhon', 'salary': 7500}, 'emp2': {'name': 'Emma', 'salary': 8000}, 'emp3': {'name': 'Chaitanya', 'salary': 8500}}\n"
          ]
        }
      ]
    },
    {
      "cell_type": "code",
      "source": [
        "\"\"\"\n",
        "8. Print the value of key ‘history’ from the below dict\n",
        "\n",
        "\tsampleDict = {\n",
        "\n",
        "\t\t\"class\": {\n",
        "\n",
        "\t\t\t\"student\": {\n",
        "\n",
        "\t\t\t\t\"name\": \"Mike\",\n",
        "\n",
        "\t\t\t\t\"marks\": {\n",
        "\n",
        "\t\t\t\t\t\"physics\": 70,\n",
        "\n",
        "\t\t\t\t\t\"history\": 80\n",
        "\n",
        "\t\t\t\t}\n",
        "\n",
        "\t\t\t}\n",
        "\n",
        "\t\t}\n",
        "\n",
        "\t}\n",
        "\"\"\"\n",
        "sampleDict = {\n",
        "\n",
        "\t\t\"class\": {\n",
        "\n",
        "\t\t\t\"student\": {\n",
        "\n",
        "\t\t\t\t\"name\": \"Mike\",\n",
        "\n",
        "\t\t\t\t\"marks\": {\n",
        "\n",
        "\t\t\t\t\t\"physics\": 70,\n",
        "\n",
        "\t\t\t\t\t\"history\": 80\n",
        "\n",
        "\t\t\t\t}\n",
        "\n",
        "\t\t\t}\n",
        "\n",
        "\t\t}\n",
        "\n",
        "\t}\n",
        "print(sampleDict['class']['student']['marks']['history'])"
      ],
      "metadata": {
        "colab": {
          "base_uri": "https://localhost:8080/"
        },
        "id": "q5UGsemeoiZg",
        "outputId": "06fd835b-788a-4c06-eabb-c684d6a2c089"
      },
      "execution_count": 19,
      "outputs": [
        {
          "output_type": "stream",
          "name": "stdout",
          "text": [
            "80\n"
          ]
        }
      ]
    },
    {
      "cell_type": "code",
      "source": [
        "\"\"\"\n",
        "9. Write a program to reverse a list -> [20, 5, 71, 10, 5] using inbuilt method and slicing.\n",
        "\"\"\"\n",
        "list1=[20, 5, 71, 10, 5]\n",
        "#original list is not modified here\n",
        "a=list(reversed(list1))\n",
        "print(a)\n",
        "print(list1)\n",
        "\n",
        "print(\"using slice\\t\",list1[::-1])\n",
        "#original list1 is modified here\n",
        "print(\"using reverse()\")\n",
        "list1.reverse()\n",
        "print(list1)"
      ],
      "metadata": {
        "colab": {
          "base_uri": "https://localhost:8080/"
        },
        "id": "5e8o5IEPpTXj",
        "outputId": "55a014dc-e050-4996-d0b8-c4681c1d9494"
      },
      "execution_count": 27,
      "outputs": [
        {
          "output_type": "stream",
          "name": "stdout",
          "text": [
            "[5, 10, 71, 5, 20]\n",
            "[20, 5, 71, 10, 5]\n",
            "using slice\t [5, 10, 71, 5, 20]\n",
            "using reverse()\n",
            "[5, 10, 71, 5, 20]\n"
          ]
        }
      ]
    },
    {
      "cell_type": "code",
      "source": [
        "\"\"\"\n",
        "10.  Write a Python program to print a specified list after removing 'White', 'Pink' and 'Yellow' elements from the list.\n",
        "\n",
        "\n",
        "\n",
        "\tSample List : ['Red', 'Green', 'White', 'Black', 'Pink', 'Yellow']\n",
        "\"\"\"\n",
        "sampleList = ['Red', 'Green', 'White', 'Black', 'Pink', 'Yellow']\n",
        "print(\"Before removing elements: \\t\",sampleList,sep='\\n')\n",
        "sampleList.remove('White')\n",
        "sampleList.remove('Pink')\n",
        "sampleList.remove('Yellow')\n",
        "print(\"after removing elements:\")\n",
        "print(sampleList)"
      ],
      "metadata": {
        "colab": {
          "base_uri": "https://localhost:8080/"
        },
        "id": "2uIcH7wbqatH",
        "outputId": "be306ceb-ca13-42e6-b831-b3263c30400a"
      },
      "execution_count": 29,
      "outputs": [
        {
          "output_type": "stream",
          "name": "stdout",
          "text": [
            "Before removing elements: \t\n",
            "['Red', 'Green', 'White', 'Black', 'Pink', 'Yellow']\n",
            "after removing elements:\n",
            "['Red', 'Green', 'Black']\n"
          ]
        }
      ]
    },
    {
      "cell_type": "code",
      "source": [
        "\"\"\"\n",
        "11. Write a Python program to check if a list is empty or not.\n",
        "\"\"\"\n",
        "l1=list([1,2,10.4])\n",
        "l2=list([\"Python\"])\n",
        "l3=list()\n",
        "l4=[]\n",
        "if len(l1) == 0:\n",
        "    print(\"l1 is empty\")\n",
        "if len(l2) == 0:\n",
        "    print(\"l2 is empty\")\n",
        "if len(l3) == 0:\n",
        "    print(\"l3 is empty\")\n",
        "if len(l4) == 0:\n",
        "    print(\"l4 is empty\")\n"
      ],
      "metadata": {
        "colab": {
          "base_uri": "https://localhost:8080/"
        },
        "id": "xDjuERz1ry0b",
        "outputId": "32dc271b-6636-43d5-c13d-b9ba78977c9d"
      },
      "execution_count": 31,
      "outputs": [
        {
          "output_type": "stream",
          "name": "stdout",
          "text": [
            "l3 is empty\n",
            "l4 is empty\n"
          ]
        }
      ]
    },
    {
      "cell_type": "code",
      "source": [
        "\"\"\"\n",
        "12. Write a Python program to remove duplicates from a list.\n",
        "\"\"\"\n",
        "#using set function\n",
        "list1=list([2,5,6,45,24,98,2,44,44,45,50,2])\n",
        "print(list(set(list1)))\n",
        "list2=[]\n",
        "for i in list1:\n",
        "  if i in list2:\n",
        "    pass\n",
        "  else:\n",
        "    list2.append(i)\n",
        "print(list2)"
      ],
      "metadata": {
        "colab": {
          "base_uri": "https://localhost:8080/"
        },
        "id": "JNAS8P7bsqfD",
        "outputId": "5e889eab-6a0f-42e7-df53-6205beaa30f2"
      },
      "execution_count": 34,
      "outputs": [
        {
          "output_type": "stream",
          "name": "stdout",
          "text": [
            "[2, 98, 5, 6, 44, 45, 50, 24]\n",
            "[2, 5, 6, 45, 24, 98, 44, 50]\n"
          ]
        }
      ]
    }
  ]
}