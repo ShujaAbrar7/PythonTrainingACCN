{
  "nbformat": 4,
  "nbformat_minor": 0,
  "metadata": {
    "colab": {
      "provenance": [],
      "authorship_tag": "ABX9TyNKXZR7gS8qEzHMYr8MqEfk",
      "include_colab_link": true
    },
    "kernelspec": {
      "name": "python3",
      "display_name": "Python 3"
    },
    "language_info": {
      "name": "python"
    }
  },
  "cells": [
    {
      "cell_type": "markdown",
      "metadata": {
        "id": "view-in-github",
        "colab_type": "text"
      },
      "source": [
        "<a href=\"https://colab.research.google.com/github/ShujaAbrar7/PythonTrainingACCN/blob/main/TrainingDay3.ipynb\" target=\"_parent\"><img src=\"https://colab.research.google.com/assets/colab-badge.svg\" alt=\"Open In Colab\"/></a>"
      ]
    },
    {
      "cell_type": "markdown",
      "source": [
        "\n",
        "1. Write a Python program to iterate over dictionaries using for loops.\n",
        "\n",
        "2. Write a Python script to check whether a given key already exists in a dictionary.\n",
        "\n",
        "3. Write a Python script to merge two Python dictionaries using loops.\n",
        "\n",
        "4. Write a Python program to sort a given dictionary by key.\n",
        "\n",
        "5. Python Program to find sum and average of List in Python\n",
        "\n",
        "list _1 = [6,17,8,12,17,11,9,4]\n",
        "\n",
        "6. Python program to print even numbers in a list.\n",
        "\n",
        "list _1 = [6,17,8,12,17,11,9,4]"
      ],
      "metadata": {
        "id": "DZ2OfFKIIsAR"
      }
    },
    {
      "cell_type": "code",
      "execution_count": null,
      "metadata": {
        "colab": {
          "base_uri": "https://localhost:8080/"
        },
        "id": "W4irfLC0DJyC",
        "outputId": "f18b94fd-ac9c-4ef0-e335-5134d13b0e6d"
      },
      "outputs": [
        {
          "output_type": "stream",
          "name": "stdout",
          "text": [
            "{1: 'one', 2: 'two', 3: 'three', 4: 'four'}\n",
            "dict_keys([1, 2, 3, 4])\n",
            "dict_values(['one', 'two', 'three', 'four'])\n",
            "dict_items([(1, 'one'), (2, 'two'), (3, 'three'), (4, 'four')])\n",
            "1:one,\n",
            "2:two,\n",
            "3:three,\n",
            "4:four,\n",
            "\n",
            "1:one,\n",
            "2:two,\n",
            "3:three,\n",
            "4:four,\n"
          ]
        }
      ],
      "source": [
        "#1. Write a Python program to iterate over dictionaries using for loops.\n",
        "d=dict({1:\"one\",2:'two',3:\"three\",4:'four'})\n",
        "#prints dictionary as it is\n",
        "print(d)\n",
        "#prints list of keys\n",
        "print(d.keys())\n",
        "#prints list of values\n",
        "print(d.values())\n",
        "#prints list of key value pairs in form of tuple\n",
        "print(d.items())\n",
        "#iterate over the dictionary\n",
        "#print using keys()\n",
        "for i in d.keys():\n",
        "  print(i,d[i],sep=':',end=',\\n')\n",
        "print()\n",
        "#print using items()\n",
        "for i,j in d.items():\n",
        "  print(i,j,sep=':',end=',\\n')"
      ]
    },
    {
      "cell_type": "code",
      "source": [
        "#2. Write a Python script to check whether a given key already exists in a dictionary.\n",
        "a=dict({\"Abrar\":24,\"Asrar\":23,\"Dinesh\":24,\"JayaChandra\":27,\"Vathsa\":23,\"Malleshwar\":26})\n",
        "#to check if the key exists in the dictionary\n",
        "searchKey=input(\"Enter the key to find\\t\")\n",
        "if searchKey in a.keys():\n",
        "  print(\"The key {} is present in the dictionary {}\".format(searchKey,a))\n",
        "else:\n",
        "  print(\"The key {} is not present in the dictionary {}\".format(searchKey,a))\n",
        "\n",
        "#conventional method\n",
        "present=-1\n",
        "searchKey2=input(\"Enter searchKey2\\t\")\n",
        "for i in a.keys():\n",
        "  if searchKey2==i:\n",
        "    present=1\n",
        "    break\n",
        "if present==-1:\n",
        "  print(\"not present\")\n",
        "else:\n",
        "  print(\"present\")"
      ],
      "metadata": {
        "colab": {
          "base_uri": "https://localhost:8080/"
        },
        "id": "9klRovmcJBJE",
        "outputId": "869e3034-7f66-4d4d-bb4b-30a8244a2814"
      },
      "execution_count": null,
      "outputs": [
        {
          "output_type": "stream",
          "name": "stdout",
          "text": [
            "Enter the key to find\tRamesh\n",
            "The key Ramesh is not present in the dictionary {'Abrar': 24, 'Asrar': 23, 'Dinesh': 24, 'JayaChandra': 27, 'Vathsa': 23, 'Malleshwar': 26}\n",
            "Enter searchKey2\tRamesh\n",
            "not present\n"
          ]
        }
      ]
    },
    {
      "cell_type": "code",
      "source": [
        "'''4. Write a Python program to sort a given dictionary by key.'''\n",
        "\n",
        "d1=dict({\"abrar\":24,\"mallesh\":27,\"rajKumar\":32,\"asrar\":23,\"Pradeep\":25,\"jayachandra\":28})\n",
        "print(sorted(d1.items(),key=lambda x:x[1]))\n"
      ],
      "metadata": {
        "colab": {
          "base_uri": "https://localhost:8080/"
        },
        "id": "I2NsPVAuhiFo",
        "outputId": "c161dc42-9dab-4139-eab9-f46b2bf3d26a"
      },
      "execution_count": 2,
      "outputs": [
        {
          "output_type": "stream",
          "name": "stdout",
          "text": [
            "[('asrar', 23), ('abrar', 24), ('Pradeep', 25), ('mallesh', 27), ('jayachandra', 28), ('rajKumar', 32)]\n"
          ]
        }
      ]
    },
    {
      "cell_type": "code",
      "source": [
        "'''5. Python Program to find sum and average of List in Python\n",
        "\n",
        "list _1 = [6,17,8,12,17,11,9,4]'''\n",
        "\n",
        "#find sum and average usign general method\n",
        "list_1 = [6,17,8,12,17,11,9,4]\n",
        "count=0\n",
        "sum=0\n",
        "for i in list_1:\n",
        "  count+=1\n",
        "  sum+=i\n",
        "print(\"The sum of {} values of list_1 is {} and with average of {}\".format(count,sum,sum/count))\n",
        "\n",
        "#using function\n",
        "count=len(list_1)\n",
        "s=0\n",
        "for i in range(len(list_1)):\n",
        "  s+=list_1[i]\n",
        "print(\"The sum of the {} values of list_1 is {} with average of {}\".format(count,s,s/count))"
      ],
      "metadata": {
        "colab": {
          "base_uri": "https://localhost:8080/"
        },
        "id": "koiVpsmGLdtT",
        "outputId": "ab480dbb-17c0-4c1b-dfa2-0c68d99099fa"
      },
      "execution_count": null,
      "outputs": [
        {
          "output_type": "stream",
          "name": "stdout",
          "text": [
            "The sum of 8 values of list_1 is 84 and with average of 10.5\n",
            "The sum of the 8 values of list_1 is 84 with average of 10.5\n"
          ]
        }
      ]
    },
    {
      "cell_type": "code",
      "source": [
        "#6. Python program to print even numbers in a list.\n",
        "#list _1 = [6,17,8,12,17,11,9,4]\n",
        "import time\n",
        "list_1 = [6,17,8,12,17,11,9,4]\n",
        "t1=time.time()\n",
        "evenList=[]\n",
        "for i in list_1:\n",
        "  if i%2==0:\n",
        "    evenList.append(i)\n",
        "t2=time.time()\n",
        "print(\"time taken {}\".format(t2-t1))\n",
        "#printing evenList\n",
        "print(evenList)\n",
        "\n",
        "\n",
        "#using list comprehension\n",
        "t3=time.time()\n",
        "evenList2=[i for i in list_1 if i%2==0]\n",
        "t4=time.time()\n",
        "print(\"time taken {}\".format(t4-t3))\n",
        "print(evenList2)"
      ],
      "metadata": {
        "colab": {
          "base_uri": "https://localhost:8080/"
        },
        "id": "YfgtX-mnO-AB",
        "outputId": "1de79e21-0551-4799-9bb6-45c565669c72"
      },
      "execution_count": null,
      "outputs": [
        {
          "output_type": "stream",
          "name": "stdout",
          "text": [
            "time taken 0.00014400482177734375\n",
            "[6, 8, 12, 4]\n",
            "time taken 0.00017023086547851562\n",
            "[6, 8, 12, 4]\n"
          ]
        }
      ]
    }
  ]
}