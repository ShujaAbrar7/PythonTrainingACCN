{
  "nbformat": 4,
  "nbformat_minor": 0,
  "metadata": {
    "colab": {
      "provenance": [],
      "authorship_tag": "ABX9TyM+3q5dnr0NbOYwMZ+QWWSQ",
      "include_colab_link": true
    },
    "kernelspec": {
      "name": "python3",
      "display_name": "Python 3"
    },
    "language_info": {
      "name": "python"
    }
  },
  "cells": [
    {
      "cell_type": "markdown",
      "metadata": {
        "id": "view-in-github",
        "colab_type": "text"
      },
      "source": [
        "<a href=\"https://colab.research.google.com/github/ShujaAbrar7/PythonTrainingACCN/blob/main/Day_3_tilldate.ipynb\" target=\"_parent\"><img src=\"https://colab.research.google.com/assets/colab-badge.svg\" alt=\"Open In Colab\"/></a>"
      ]
    },
    {
      "cell_type": "code",
      "execution_count": null,
      "metadata": {
        "colab": {
          "base_uri": "https://localhost:8080/"
        },
        "id": "MXnRuJkm5LwK",
        "outputId": "67b679de-818e-4e3a-b774-f333186a9aa0"
      },
      "outputs": [
        {
          "output_type": "stream",
          "name": "stdout",
          "text": [
            "{'W': 1, 'e': 3, 'l': 2, 'c': 1, 'o': 4, 'm': 1, 't': 3, 'h': 2, 'p': 1, 'y': 1, 'n': 1, 'w': 1, 'r': 1, 'd': 1}\n",
            "there are  9  letters that occured  1  times\n",
            "there are  2  letters that occured  3  times\n",
            "there are  2  letters that occured  2  times\n",
            "there are  1  letters that occured  4  times\n"
          ]
        }
      ],
      "source": [
        "s='Welcome to the python world'\n",
        "d=dict()\n",
        "for i in s:\n",
        "  if i not in d.keys():\n",
        "    if i==' ':\n",
        "      pass\n",
        "    else:\n",
        "      d[i]=1\n",
        "  else:\n",
        "    d[i]+=1\n",
        "CountDict=dict()\n",
        "for i in d.values():\n",
        "  if i not in CountDict:\n",
        "    CountDict[i]=1\n",
        "  else:\n",
        "    CountDict[i]+=1\n",
        "#print(CountDict)\n",
        "print(d)\n",
        "for i,j in CountDict.items():\n",
        "  print(\"there are \",j,\" letters that occured \",i,\" times\")"
      ]
    },
    {
      "cell_type": "code",
      "source": [
        "# Function to triple a number\n",
        "def triple_number(n):\n",
        "    return n * 3\n",
        "\n",
        "numbers = [2.2,6,8.009,4038]\n",
        "\n",
        "# Use map to triple all numbers in the list\n",
        "tripled_numbers = list(map(triple_number, numbers))\n",
        "print(tripled_numbers)\n"
      ],
      "metadata": {
        "colab": {
          "base_uri": "https://localhost:8080/"
        },
        "id": "AWZFXoteCNU4",
        "outputId": "ac4fb84c-2594-4be3-908a-39bd0159053a"
      },
      "execution_count": null,
      "outputs": [
        {
          "output_type": "stream",
          "name": "stdout",
          "text": [
            "[6.6000000000000005, 18, 24.027, 12114]\n"
          ]
        }
      ]
    },
    {
      "cell_type": "code",
      "source": [
        "'''sequence = \"Gkjdg jJX iusgd\"\n",
        "set(sequence)'''\n",
        "a= {'a', 'b', 'E', 'f', 'a', 'i', 'o', 'U', 'a'}\n",
        "print(a)\n",
        "print(''.join(list(a)))"
      ],
      "metadata": {
        "colab": {
          "base_uri": "https://localhost:8080/"
        },
        "id": "Kqeo6FtGnUxc",
        "outputId": "0217d6df-f35f-42a4-8853-8b45cfc6c39c"
      },
      "execution_count": 4,
      "outputs": [
        {
          "output_type": "stream",
          "name": "stdout",
          "text": [
            "{'b', 'i', 'o', 'E', 'f', 'a', 'U'}\n",
            "bioEfaU\n"
          ]
        }
      ]
    },
    {
      "cell_type": "code",
      "source": [
        "# Function to convert a character to uppercase\n",
        "def to_uppercase(char):\n",
        "    return char.upper()\n",
        "\n",
        "# Function to convert a character to lowercase\n",
        "def to_lowercase(char):\n",
        "    return char.lower()\n",
        "\n",
        "# Function to eliminate duplicate characters\n",
        "def eliminate_duplicates(sequence):\n",
        "    return ''.join(sorted(set(sequence)))\n",
        "\n",
        "# Input sequence\n",
        "charl=list(['a', 'b', 'E', 'f', 'a', 'i', 'o', 'U', 'a'])\n",
        "#chrars = set(charl)\n",
        "sequence = ''.join(list(charl))\n",
        "print(sequence)\n",
        "\n",
        "# Use map to convert to uppercase and lowercase, and eliminate duplicates\n",
        "uppercase_sequence = ''.join(map(to_uppercase, sequence))\n",
        "lowercase_sequence = ''.join(map(to_lowercase, sequence))\n",
        "eliminated_duplicates_sequence = eliminate_duplicates(sequence)\n",
        "\n",
        "# Print the results\n",
        "print(\"Original Sequence:\", charl)\n",
        "print(\"Uppercase Sequence:\", list(uppercase_sequence))\n",
        "print(\"Lowercase Sequence:\", list(lowercase_sequence))\n",
        "print(\"Eliminated Duplicates Sequence:\", list(eliminated_duplicates_sequence))\n"
      ],
      "metadata": {
        "colab": {
          "base_uri": "https://localhost:8080/"
        },
        "id": "WshS_2hzDCTx",
        "outputId": "086d0518-7fb8-473f-ce94-177b1b28384f"
      },
      "execution_count": 17,
      "outputs": [
        {
          "output_type": "stream",
          "name": "stdout",
          "text": [
            "abEfaioUa\n",
            "Original Sequence: ['a', 'b', 'E', 'f', 'a', 'i', 'o', 'U', 'a']\n",
            "Uppercase Sequence: ['A', 'B', 'E', 'F', 'A', 'I', 'O', 'U', 'A']\n",
            "Lowercase Sequence: ['a', 'b', 'e', 'f', 'a', 'i', 'o', 'u', 'a']\n",
            "Eliminated Duplicates Sequence: ['E', 'U', 'a', 'b', 'f', 'i', 'o']\n"
          ]
        }
      ]
    },
    {
      "cell_type": "code",
      "source": [
        "'''Write a Python program to convert a given list of strings into a list of lists using the map function.\n",
        "\n",
        "\tsample_list = ['Red', 'Green', 'Black', 'Orange']'''\n",
        "sample_list = ['Red', 'Green', 'Black', 'Orange']\n",
        "# Use map to convert each string into a list of characters\n",
        "list_of_lists = list(map(list, sample_list))\n",
        "print(list_of_lists)\n"
      ],
      "metadata": {
        "colab": {
          "base_uri": "https://localhost:8080/"
        },
        "id": "3xkSeuq_DX4u",
        "outputId": "3a9a1b01-8e36-409f-ff88-578594cf2702"
      },
      "execution_count": null,
      "outputs": [
        {
          "output_type": "stream",
          "name": "stdout",
          "text": [
            "[['R', 'e', 'd'], ['G', 'r', 'e', 'e', 'n'], ['B', 'l', 'a', 'c', 'k'], ['O', 'r', 'a', 'n', 'g', 'e']]\n"
          ]
        }
      ]
    },
    {
      "cell_type": "code",
      "source": [
        "'''Write a Python function that filters out even numbers from a list of integers using the filter function.\n",
        "\n",
        "\tnums = [1, 2, 3, 4, 5, 6, 7, 8, 9, 10]'''\n",
        "nums = [1, 2, 3, 4, 5, 6, 7, 8, 9, 10]\n",
        "\n",
        "def evenFilter(x):\n",
        "  if x%2==0:\n",
        "    return True\n",
        "res=filter(evenFilter,nums)\n",
        "for i in res:\n",
        "  print(i,end=',')"
      ],
      "metadata": {
        "colab": {
          "base_uri": "https://localhost:8080/"
        },
        "id": "k_y7jGCWTbQM",
        "outputId": "71633a29-3da2-4728-fc64-ed5e8a14eccf"
      },
      "execution_count": null,
      "outputs": [
        {
          "output_type": "stream",
          "name": "stdout",
          "text": [
            "2,4,6,8,10,"
          ]
        }
      ]
    },
    {
      "cell_type": "code",
      "source": [
        "'''Write a Python function that filters out all elements less than or equal than a specified value (threshold value) from a list of\n",
        "\n",
        "\t numbers using the filter function.\n",
        "\n",
        "\tsample_list = [20, 15, 24, 37, 23, 11, 7], threshold = 20\n",
        "'''\n",
        "sample_list = [20, 15, 24, 37, 23, 11, 7]\n",
        "\n",
        "def FiltList(x):\n",
        "  #we want values less than o equal to threshold so using that in True case\n",
        "  if x<=20:\n",
        "    return True\n",
        "res=filter(FiltList,sample_list)\n",
        "for i in res:\n",
        "  print(i,end=',')"
      ],
      "metadata": {
        "colab": {
          "base_uri": "https://localhost:8080/"
        },
        "id": "UwuYNsM8Uy_0",
        "outputId": "0c073df2-560d-44c4-a6d5-44aaf0799607"
      },
      "execution_count": null,
      "outputs": [
        {
          "output_type": "stream",
          "name": "stdout",
          "text": [
            "20,15,11,7,"
          ]
        }
      ]
    },
    {
      "cell_type": "code",
      "source": [
        "'''\n",
        "Write a Python program that filters the list of words and extract words that contain more than five letters.\n",
        "\n",
        "\twords = [\"Red\", \"Green\", \"Orange\", \"White\", \"Black\", \"Pink\", \"Yellow\"]\n",
        "'''\n",
        "words = [\"Red\", \"Green\", \"Orange\", \"White\", \"Black\", \"Pink\", \"Yellow\"]\n",
        "def wordFilt(x):\n",
        "  if len(x)>5:\n",
        "    return True\n",
        "res=filter(wordFilt,words)\n",
        "for i in res:\n",
        "  print(i,end=',')"
      ],
      "metadata": {
        "colab": {
          "base_uri": "https://localhost:8080/"
        },
        "id": "nLl26m8nWjXZ",
        "outputId": "ba455bb8-8504-4e46-9f6e-400e8f2bfce1"
      },
      "execution_count": null,
      "outputs": [
        {
          "output_type": "stream",
          "name": "stdout",
          "text": [
            "Orange,Yellow,"
          ]
        }
      ]
    },
    {
      "cell_type": "code",
      "source": [
        "'''\n",
        "Write a python program that returns sum of list of elements using reduce function\n",
        "\n",
        "\tmyNumbers = [20, 15, 24, 37, 23, 11, 7]\n",
        "'''\n",
        "from functools import reduce\n",
        "myNumbers = [20, 15, 24, 37, 23, 11, 7]\n",
        "\n",
        "def addList(a,b):\n",
        "  return a+b\n",
        "ans=reduce(addList,myNumbers)\n",
        "print(ans)"
      ],
      "metadata": {
        "colab": {
          "base_uri": "https://localhost:8080/"
        },
        "id": "wqVe_b2OXsKK",
        "outputId": "324615fc-9506-4736-c228-a827e5f84dd5"
      },
      "execution_count": null,
      "outputs": [
        {
          "output_type": "stream",
          "name": "stdout",
          "text": [
            "137\n"
          ]
        }
      ]
    },
    {
      "cell_type": "code",
      "source": [
        "'''\n",
        "Python function to check if a number is palindrome or not'''\n",
        "num1=12721\n",
        "if str(num1)==str(num1)[::-1]:\n",
        "  print(\"palindrome number\")\n",
        "else:\n",
        "  print(\"not a palindromic number\")\n",
        "\n",
        "# 2approach\n",
        "num1=12791\n",
        "num2=num1\n",
        "c=0\n",
        "while(num2>0):\n",
        "  c=c*10+num2%10\n",
        "  num2//=10\n",
        "if c==num1:\n",
        "  print(\"palindrome\")\n",
        "else:\n",
        "  print(\"not a palindrome\")\n"
      ],
      "metadata": {
        "colab": {
          "base_uri": "https://localhost:8080/"
        },
        "id": "oHOnF_AVYNk5",
        "outputId": "b32d609b-f65e-42df-fd72-a2867e45387e"
      },
      "execution_count": null,
      "outputs": [
        {
          "output_type": "stream",
          "name": "stdout",
          "text": [
            "palindrome number\n",
            "not a palindrome\n"
          ]
        }
      ]
    },
    {
      "cell_type": "code",
      "source": [
        "'''Create a function with variable length of arguments'''\n",
        "def ProductOfNumbers(*args):\n",
        "  a=1\n",
        "  for i in args:\n",
        "    a*=i\n",
        "  return a\n",
        "print(ProductOfNumbers(10,2,3.4))\n",
        "print(ProductOfNumbers(1,2,3,4,5,6,7,8,9))"
      ],
      "metadata": {
        "colab": {
          "base_uri": "https://localhost:8080/"
        },
        "id": "JZ5_J6gQaVVt",
        "outputId": "e906fd48-c703-4fe4-a6ca-af333f1c3e1a"
      },
      "execution_count": null,
      "outputs": [
        {
          "output_type": "stream",
          "name": "stdout",
          "text": [
            "68.0\n",
            "362880\n"
          ]
        }
      ]
    },
    {
      "cell_type": "code",
      "source": [
        "'''\n",
        "Write a program that asks the user for two numbers. Then ask them if they would like to add,\n",
        "\n",
        "subtract, divide, or multiply these numbers. Perform the chosen operation on the values, showing the operation being performed\n",
        "'''\n",
        "i1=int(input(\"Enter first operand:\\t\"))\n",
        "i2=int(input(\"Enter second operand:\\t\"))\n",
        "op=input(\"Choose operation ADD, SUB, MUL, DIV, MOD, FDIV:\\t\")\n",
        "\n",
        "def calculations(*args):\n",
        "    if args[2]==\"ADD\":\n",
        "      return i1+i2\n",
        "    elif args[2]==\"SUB\":\n",
        "      return i1-i2\n",
        "    elif args[2]==\"MUL\":\n",
        "      return i1*i2\n",
        "    elif args[2]==\"DIV\":\n",
        "      if args[1]==0:\n",
        "        return \"Division by zero is not advisable ....\"\n",
        "      else:\n",
        "        return i1/i2\n",
        "    elif args[2]==\"MOD\":\n",
        "      return i1%i2\n",
        "    elif args[2]==\"FDIV\":\n",
        "      if args[1]==0:\n",
        "        return \"Floor Division by zero is not advisable ....\"\n",
        "      else:\n",
        "        return i1//i2\n",
        "    else:\n",
        "      return \"Not a valid operation\"\n",
        "print(calculations(i1,i2,op))"
      ],
      "metadata": {
        "colab": {
          "base_uri": "https://localhost:8080/"
        },
        "id": "opDgxBWUbEUc",
        "outputId": "bc866cfa-5bd0-4d60-9add-ae28b2f7f53c"
      },
      "execution_count": null,
      "outputs": [
        {
          "output_type": "stream",
          "name": "stdout",
          "text": [
            "Enter first operand:\t2\n",
            "Enter second operand:\t0\n",
            "Choose operation ADD, SUB, MUL, DIV, MOD, FDIV:\tDIV\n",
            "Division by zero is not advisable ....\n"
          ]
        }
      ]
    }
  ]
}